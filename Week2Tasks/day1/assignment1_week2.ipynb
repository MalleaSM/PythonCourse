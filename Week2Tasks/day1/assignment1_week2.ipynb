{
 "cells": [
  {
   "cell_type": "markdown",
   "metadata": {},
   "source": [
    "**Week 2 - Assigment 1**"
   ]
  },
  {
   "cell_type": "code",
   "execution_count": 15,
   "metadata": {},
   "outputs": [
    {
     "name": "stdout",
     "output_type": "stream",
     "text": [
      "[10, 20, 40, 67.7, 100, 25.0, 40.5, 6.7]\n"
     ]
    }
   ],
   "source": [
    "## join array elements\n",
    "\n",
    "grades1 = [10, 20, 40, 67.7]\n",
    "grades2 = [100, 25.0, 40.5, 6.7]\n",
    "expected_result = [10, 20, 40, 67.7, 100, 25.0, 40.5, 6.7]\n",
    "result = grades1 + grades2\n",
    "\n",
    "assert result == expected_result, f\"actual result {result} does not match expected result {expected_result}\"\n",
    "print(result)"
   ]
  },
  {
   "cell_type": "code",
   "execution_count": 16,
   "metadata": {},
   "outputs": [
    {
     "name": "stdout",
     "output_type": "stream",
     "text": [
      "[110, 45.0, 80.5, 74.4]\n"
     ]
    }
   ],
   "source": [
    "## sum array elements\n",
    "grades1 = [10, 20, 40, 67.7]\n",
    "grades2 = [100, 25.0, 40.5, 6.7]\n",
    "expected_result = [110, 45.0, 80.5, 74.4]\n",
    "\n",
    "\n",
    "result =[x + y for x, y in zip(grades1, grades2)]\n",
    "assert result == expected_result, f\"actual result {result} does not match expected result {expected_result}\"\n",
    "print(result)"
   ]
  },
  {
   "cell_type": "code",
   "execution_count": 20,
   "metadata": {},
   "outputs": [
    {
     "name": "stdout",
     "output_type": "stream",
     "text": [
      "[-17.77777777777778, -23.333333333333332, -20.555555555555557, -26.11111111111111, -17.77777777777778]\n",
      "['4.350', '9.531', '6.521', '-4.914', '-1.886', '-4.366', '6.628', '3.790']\n"
     ]
    }
   ],
   "source": [
    "import random\n",
    "# With arithmetic manipulation, we can convert current data to the way we want it to be. \n",
    "# Here's a real-world problem I face - I moved down to the United States about 6 years ago from Canada. \n",
    "# In Canada we use celciu for temperatures, and most of the time it has to be converted to the US system which uses farenheit. \n",
    "# Convert a number of farenheit values, say the weather forecase, to celcius\n",
    "# And the formula for conversion is ((°F − 32) × 5/9 = °C)\n",
    "farenheit = [0,-10,-5,-15,0]\n",
    "celcius = [((val - 32)* 5/9) for val in farenheit]\n",
    "expected_celcius = [-17.77777777777778, -23.333333333333332, -20.555555555555557, -26.11111111111111, -17.77777777777778]\n",
    "assert celcius == expected_celcius, f\"actual result {celcius} does not match expected result {expected_celcius}\"\n",
    "print(celcius)\n",
    "\n",
    "# Now, create an array with random values of typical `Ann Arbor winter` farenheit values with sample_size specified by the user\n",
    "# then convert its values to celcius\n",
    "# result list must not contain duplicates, and celcius numbers must be floating point with 3 decimal places\n",
    "\n",
    "limit1 = input(\"From wich temperature?\")\n",
    "limit2 = input(\"To wich temperature?\")\n",
    "sample_size = input(\"How many samples?\")\n",
    "limit1 = float(limit1)\n",
    "limit2 = float(limit2)\n",
    "sample_size = int(sample_size)\n",
    "\n",
    "farenheit = []\n",
    "while len(farenheit) < sample_size:\n",
    "    value = random.uniform(limit1,limit2)\n",
    "    if(value not in farenheit):\n",
    "        farenheit.append(value)\n",
    "        \n",
    "celcius = [((val - 32)* 5/9) for val in farenheit ]\n",
    "expected_celcius = ['%.3f' % elem for elem in celcius]\n",
    "print(expected_celcius)\n"
   ]
  },
  {
   "cell_type": "code",
   "execution_count": 24,
   "metadata": {},
   "outputs": [
    {
     "name": "stdout",
     "output_type": "stream",
     "text": [
      "[False, True, False, True, False]\n"
     ]
    }
   ],
   "source": [
    "## Now, we want to get a boolean array to check celcius degrees that are greater than -20 degrees\n",
    "\n",
    "farenheit = [0,-10,-5,-15,0]\n",
    "celcius_gt_20 = [ value < -5  for value in farenheit]\n",
    "print(celcius_gt_20)\n",
    "expected_celcius_gt_20 = [False, True, False, True, False]\n",
    "assert celcius_gt_20 == expected_celcius_gt_20, f\"actual result {celcius_gt_20} does not match expected result {expected_celcius_gt_20}\"\n"
   ]
  },
  {
   "cell_type": "code",
   "execution_count": 26,
   "metadata": {},
   "outputs": [
    {
     "name": "stdout",
     "output_type": "stream",
     "text": [
      "[1970, 1972, 1974, 1976, 1978, 1980, 1982, 1984, 1986, 1988, 1990, 1992, 1994, 1996, 1998, 2000, 2002, 2004, 2006, 2008, 2010, 2012, 2014, 2016, 2018, 2020, 2022]\n"
     ]
    }
   ],
   "source": [
    "## We've held music festivals, every other year since 1970 until now - 2022. How would we list the years?\n",
    "years = list(range(1970,2023,2))\n",
    "print (years)\n"
   ]
  },
  {
   "cell_type": "code",
   "execution_count": 30,
   "metadata": {},
   "outputs": [
    {
     "name": "stdout",
     "output_type": "stream",
     "text": [
      "ticket [49, 6, 23, 4, 19]\n"
     ]
    }
   ],
   "source": [
    "## A fortune-teller robot generate random lotto ticket suggestions for its customers. \n",
    "## How would you help the ronot pick five random numbers between 1 and 53.\n",
    "import random\n",
    "\n",
    "SUGGESTED_COUNT = 5\n",
    "ticket = []\n",
    "while len(ticket) < SUGGESTED_COUNT:\n",
    "    value = random.randint(1,53)\n",
    "    if(value not in ticket):\n",
    "        ticket.append(value)\n",
    "\n",
    "assert len(ticket) == SUGGESTED_COUNT,f'expected len was {SUGGESTED_COUNT}'\n",
    "print('ticket',ticket)\n"
   ]
  },
  {
   "cell_type": "code",
   "execution_count": 31,
   "metadata": {},
   "outputs": [
    {
     "name": "stdout",
     "output_type": "stream",
     "text": [
      "item 1: $0.50\n",
      "item 2: $1.50\n",
      "item 3: $2.50\n"
     ]
    }
   ],
   "source": [
    "## Print this menu prices in the following format\n",
    "##  item 1: $0.50\n",
    "##  item 2: $1.50\n",
    "##  item 3: $2.50\n",
    "menu_prices  = {\n",
    "    'item 1': 0.50,\n",
    "    'item 2': 1.50,\n",
    "    'item 3': 2.50\n",
    "}\n",
    "for  name,price in  menu_prices.items():\n",
    "    print(name,': $',format(price,'.2f'),sep='')"
   ]
  },
  {
   "cell_type": "code",
   "execution_count": 11,
   "metadata": {},
   "outputs": [
    {
     "name": "stdout",
     "output_type": "stream",
     "text": [
      "What Would you like to order? (Q to Quit)\n",
      "{'salat': 3.5, 'fries': 5.0, 'hamburguer': 7.5}\n",
      "Added to order!\n",
      "Anything else? (Q to Quit)\n",
      "{'salat': 3.5, 'fries': 5.0, 'hamburguer': 7.5}\n",
      "Added to order!\n",
      "Anything else? (Q to Quit)\n",
      "{'salat': 3.5, 'fries': 5.0, 'hamburguer': 7.5}\n",
      "your order: ['salat: $3.5', 'fries: $5.0']\n"
     ]
    }
   ],
   "source": [
    "## Create an console interface for ordering from a menu, \n",
    "## it will let customers order and add as many menu items as they want\n",
    "menu = {\n",
    "    'salat': 3.50,\n",
    "    'fries': 5.00,\n",
    "    'hamburguer': 7.50\n",
    "}\n",
    "\n",
    "choice = \"\"\n",
    "orders = []\n",
    "count = 0\n",
    "# Add the user what they want to order as: what would you like to order? (Q to quit)\n",
    "# while the order is not equal for Q for quit, find the order and add it to the list if it exists\n",
    "# else let the customer know that the `Menu item does not exist`    \n",
    "# See if the customer wants to order anything else `Anything else? (Q to Quit)`\n",
    "\n",
    "\n",
    "while choice != \"Q\":\n",
    "    if count==0:\n",
    "        print(\"What Would you like to order? (Q to Quit)\")\n",
    "        print(menu)\n",
    "        choice = input()\n",
    "        count = count+1\n",
    "    else:\n",
    "        print(\"Added to order!\")\n",
    "        print(\"Anything else? (Q to Quit)\")\n",
    "        print(menu)\n",
    "        choice = input()\n",
    "    if choice in menu:\n",
    "        orders.append(choice+\": $\"+str(menu[choice]))\n",
    "    elif choice != 'Q':\n",
    "        print('Menu Item doesn\\'t exist')\n",
    "\n",
    "print('your order:',orders)"
   ]
  },
  {
   "cell_type": "code",
   "execution_count": 14,
   "metadata": {},
   "outputs": [
    {
     "name": "stdout",
     "output_type": "stream",
     "text": [
      "What Would you like to order? (Q to Quit)\n",
      "{'salat': 3.5, 'fries': 5.0, 'hamburguer': 7.5, 'Cheese sticks': 3.25}\n",
      "Added to order!\n",
      "Anything else? (Q to Quit)\n",
      "{'salat': 3.5, 'fries': 5.0, 'hamburguer': 7.5, 'Cheese sticks': 3.25}\n",
      "Added to order!\n",
      "Anything else? (Q to Quit)\n",
      "{'salat': 3.5, 'fries': 5.0, 'hamburguer': 7.5, 'Cheese sticks': 3.25}\n",
      "We're all out of that!\n",
      "Anything else? (Q to Quit)\n",
      "{'salat': 3.5, 'fries': 5.0, 'hamburguer': 7.5, 'Cheese sticks': 3.25}\n",
      "your order: ['fries: $5.0', 'salat: $3.5']\n"
     ]
    }
   ],
   "source": [
    "## We have a problem, we run out of `Cheese sticks` in the menu, we'll need to let the customer know\n",
    "## if the order is `Cheese sticks` print `We're all out of that!` and skip the rest of the code\n",
    "menu = {\n",
    "    'salat': 3.50,\n",
    "    'fries': 5.00,\n",
    "    'hamburguer': 7.50,\n",
    "    'Cheese sticks': 3.25\n",
    "}\n",
    "\n",
    "choice = \"\"\n",
    "orders = []\n",
    "count = 0\n",
    "\n",
    "while choice != \"Q\":\n",
    "    if count==0:\n",
    "        print(\"What Would you like to order? (Q to Quit)\")\n",
    "        print(menu)\n",
    "        choice = input()\n",
    "        count = count+1\n",
    "    else:\n",
    "        print(\"Anything else? (Q to Quit)\")\n",
    "        print(menu)\n",
    "        choice = input()\n",
    "    if choice in menu and choice != 'Cheese sticks':\n",
    "        orders.append(choice+\": $\"+str(menu[choice]))\n",
    "        print(\"Added to order!\")\n",
    "    elif choice == 'Cheese sticks':\n",
    "         print('We\\'re all out of that!')\n",
    "    elif choice != 'Q':\n",
    "        print('Menu Item doesn\\'t exist')\n",
    "\n",
    "print('your order:',orders)"
   ]
  },
  {
   "cell_type": "code",
   "execution_count": 40,
   "metadata": {},
   "outputs": [
    {
     "name": "stdout",
     "output_type": "stream",
     "text": [
      "You win!\n"
     ]
    }
   ],
   "source": [
    "## We want to create a \"guess the number\" game for our fortune-teller robot. \n",
    "## If you guess the random number between 1 and 10, you win a crystal ball!\n",
    "\n",
    "# There is some code that's been written for us \n",
    "# -- getting the random number the user needs to guess, \n",
    "# asking the user to guess a number, and printing 'You win!' if they win. \n",
    "# We need to write the code to compare the users response to num.\n",
    "import random\n",
    "\n",
    "num = random.randint(1, 10)\n",
    "\n",
    "guess = int(input('Guess a number between 1 and 10'))\n",
    "# YOUR CODE HERE\n",
    "if(guess == num):\n",
    "    print('You win!') \n",
    "else:\n",
    "    print('You lose')"
   ]
  },
  {
   "cell_type": "code",
   "execution_count": 24,
   "metadata": {},
   "outputs": [
    {
     "name": "stdout",
     "output_type": "stream",
     "text": [
      "try again\n",
      "try again\n",
      "You win!\n"
     ]
    }
   ],
   "source": [
    "## Now our fortune-teller robot has a guess the number game — if you guess the random number between 1 and 10, you win a crystal ball! \n",
    "## But the game lets the user guess 10 times, so they always win... #fail. \n",
    "## Let's fix the game so they can only guess three times.\n",
    "## After the while loop ends, check if guess is equal to num, then print 'You win!'. Otherwise, print 'You lose! The number was ' and also print num.\n",
    "\n",
    "import random\n",
    "win = False\n",
    "num = random.randint(1, 10)\n",
    "for player_try  in range(3):\n",
    "    guess = int(input('Guess a number between 1 and 10'))\n",
    "# YOUR CODE HERE\n",
    "    if(guess == num):\n",
    "        print('You win!')\n",
    "        win = True\n",
    "        break\n",
    "    else:\n",
    "        print('try again')\n",
    "if(not win):\n",
    "    print(\"You lose! the number was:\",num)\n"
   ]
  }
 ],
 "metadata": {
  "kernelspec": {
   "display_name": "Python 3.10.7 64-bit (microsoft store)",
   "language": "python",
   "name": "python3"
  },
  "language_info": {
   "codemirror_mode": {
    "name": "ipython",
    "version": 3
   },
   "file_extension": ".py",
   "mimetype": "text/x-python",
   "name": "python",
   "nbconvert_exporter": "python",
   "pygments_lexer": "ipython3",
   "version": "3.10.7"
  },
  "orig_nbformat": 4,
  "vscode": {
   "interpreter": {
    "hash": "66eba28a75a64fbe1a9b9c30d27f7c856726c51cbbef86297708eae4ce175db0"
   }
  }
 },
 "nbformat": 4,
 "nbformat_minor": 2
}
