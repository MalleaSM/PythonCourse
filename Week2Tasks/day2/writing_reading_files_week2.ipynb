{
 "cells": [
  {
   "cell_type": "markdown",
   "metadata": {},
   "source": [
    "**Reading and Writing Files**"
   ]
  },
  {
   "cell_type": "markdown",
   "metadata": {},
   "source": [
    "**Problem:** We want to store data more permanently\n",
    "\n",
    "**Solution:**\n",
    "- Writing data to a file\n",
    "- Writing data to a database, reading data from a file"
   ]
  },
  {
   "cell_type": "markdown",
   "metadata": {},
   "source": [
    "**How to write to a file?**\n",
    "1. Open the file\n",
    "2. Write to the file"
   ]
  },
  {
   "cell_type": "code",
   "execution_count": 1,
   "metadata": {},
   "outputs": [],
   "source": [
    "sales_log = open('orders.txt', 'w')\n",
    "sales_log.write('line 1')\n",
    "sales_log.close()"
   ]
  },
  {
   "cell_type": "markdown",
   "metadata": {},
   "source": [
    "**Writing data to a file**\n",
    "\n",
    "After we get a customer order, it would be great if we could record each sale to a sales.txt file\n",
    "- One single order comes in a dictionary of menu items and their price\n",
    "\n",
    "We are going to write each item and price on a separate line in a file and then the orders total"
   ]
  },
  {
   "cell_type": "code",
   "execution_count": 10,
   "metadata": {},
   "outputs": [],
   "source": [
    "def write_sales_log(order):\n",
    "    # open the file\n",
    "    sales = open('sales.txt','w')\n",
    "    total = 0\n",
    "    # write each item to the file\n",
    "    for ord in order:\n",
    "        line = ord + \"\\n\"\n",
    "        print(ord)\n",
    "        sales.write(line)\n",
    "    # write the total to the file\n",
    "    # close the file\n",
    "    sales.close()\n",
    "    pass"
   ]
  },
  {
   "cell_type": "code",
   "execution_count": 12,
   "metadata": {},
   "outputs": [
    {
     "name": "stdout",
     "output_type": "stream",
     "text": [
      "order 4\n",
      "order 5\n"
     ]
    }
   ],
   "source": [
    "def main():\n",
    "    order =  {'order 1': 1.0, 'order 2': 2.5}\n",
    "    write_sales_log(order)\n",
    "\n",
    "main()\n",
    " "
   ]
  },
  {
   "cell_type": "code",
   "execution_count": 13,
   "metadata": {},
   "outputs": [],
   "source": [
    "# Now, we need to print the price as well\n",
    "def write_sales_log(order):\n",
    "    # open the file\n",
    "    sales = open('sales.txt','w')\n",
    "    total = 0\n",
    "    # write each item along the price (float with 2 decimal places) to the file: `abdef ###.##`\n",
    "    for key,value in order.items():\n",
    "        line = f\"{key}: {value}\\n\"\n",
    "        total = total + value\n",
    "        sales.write(line)\n",
    "    # write the item total to the file `total = ###.##`\n",
    "    sales.write(\"Total:\"+str(total)+\"\\n\")\n",
    "    # close the file\n",
    "    sales.close()\n",
    "    pass\n",
    "\n",
    "def main():\n",
    "    order =  {'order item 1': 1.0, 'order item 2': 2.5}\n",
    "    write_sales_log(order)\n",
    "    order =  {'order item 1': 6.0, 'order item 2': 21.5}\n",
    "\n",
    "main()"
   ]
  },
  {
   "cell_type": "code",
   "execution_count": 14,
   "metadata": {},
   "outputs": [],
   "source": [
    "## We don't want to ovewrite our file data each time\n",
    "## append data  to the end of the file instead'\n",
    "\n",
    "# Now, we need to print the price as well\n",
    "def write_sales_log(order):\n",
    "    sales = open('sales.txt','a')\n",
    "    total = 0\n",
    "    for key,value in order.items():\n",
    "        line = f\"{key}: {value}\\n\"\n",
    "        total = total + value\n",
    "        sales.write(line)\n",
    "    ## After `total` is written, Add a new line to separate the orders better\n",
    "    sales.write(\"Total:\"+str(total)+\"\\n\")\n",
    "    sales.close()\n",
    "    pass\n",
    "\n",
    "def main():\n",
    "    order =  {'order item 1': 1.0, 'order item 2': 2.5}\n",
    "    write_sales_log(order)\n",
    "    order =  {'order item 1': 6.0, 'order item 2': 21.5}\n",
    "    write_sales_log(order)\n",
    "\n",
    "main()"
   ]
  },
  {
   "cell_type": "markdown",
   "metadata": {},
   "source": [
    "**Writing the Circus Schedule**\n",
    "\n",
    "Whenever we update the schedule we'll write it to a file so that other programs, like the circus website, can use it. We want to take our performances dictionary and write each item into a schedule.txt file so the file looks like this:\n",
    "\n",
    "    Ventriloquism - 9:00am\n",
    "\n",
    "    Snake Charmer - 12:00pm\n",
    "\n",
    "    Amazing Acrobatics - 2:00pm\n",
    "\n",
    "    Enchanted Elephants - 5:00pm"
   ]
  },
  {
   "cell_type": "code",
   "execution_count": 7,
   "metadata": {},
   "outputs": [],
   "source": [
    "schedules = {\n",
    "    'Ventriloquism': \"9:00 am\",\n",
    "    'Snake Charmer': \"12:00 pm\",\n",
    "    'Amazing Acrobatics': \"2:00 pm\",\n",
    "    'Enchanted Elephants': \"5:00 pm\"\n",
    "}\n",
    "## First, we'll need to open our file using the open() function with the file name schedule.txt and w for write. \n",
    "# We'll also want to assign the file to a variable called schedule_file.\n",
    "\n",
    "## Next, we need to write each item from the dictionary to the file. To do that, we'll create a for loop that loops over the dictionary's items(). \n",
    "# We'll name the for loop variables key and val.\n",
    "\n",
    "## Inside our for loop we'll write to schedule_file using the .write() function. Then inside of that function we'll concatenate the key, then ' - ', and finally val to match our menu format. \n",
    "# Don't forget to add a newline ' ' at the end of each line.\n",
    "\n",
    "## Now that we're done writing our performance schedule to schedule_file, we need to close it with .close().\n",
    "with open('schedules.txt','w') as schedule_file:\n",
    "    for schedule in schedules.items():\n",
    "        key,value = schedule\n",
    "        line = f\"{key}-{value}\\n\"\n",
    "        schedule_file.write(line)"
   ]
  },
  {
   "cell_type": "markdown",
   "metadata": {},
   "source": [
    "**Reading data from a file**\n",
    "\n",
    "**Problem:**\n",
    "- Everyday a boss sends a file of dollar menu items.\n",
    "- We want to read this file into a list so our program can use it\n",
    "\n",
    "**Solution:**\n",
    "- Open the file \n",
    "- Read from the file\n",
    "- Close the file"
   ]
  },
  {
   "cell_type": "code",
   "execution_count": 22,
   "metadata": {},
   "outputs": [],
   "source": [
    "#creating dollar_menu.txt to complete other exercises\n",
    "import random\n",
    "def create_dollar_menu():\n",
    "    with open('dollar_menu.txt', 'w') as dollars:\n",
    "        for dollar in range(5):\n",
    "            line = \"{:.2f}\".format(random.uniform(0.50, 100.00)) + \"$\\n\"\n",
    "            dollars.write(line)\n",
    "\n",
    "\n",
    "create_dollar_menu()"
   ]
  },
  {
   "cell_type": "code",
   "execution_count": 23,
   "metadata": {},
   "outputs": [
    {
     "name": "stdout",
     "output_type": "stream",
     "text": [
      "35.01$\n",
      "71.64$\n",
      "24.43$\n",
      "51.31$\n",
      "80.07$\n",
      "\n"
     ]
    }
   ],
   "source": [
    "## Reading the entire file content at once\n",
    "dollar_spam = open('dollar_menu.txt', 'r')\n",
    "print(dollar_spam.read())\n",
    "dollar_spam.close()"
   ]
  },
  {
   "cell_type": "code",
   "execution_count": 26,
   "metadata": {},
   "outputs": [
    {
     "name": "stdout",
     "output_type": "stream",
     "text": [
      "1st line: 35.01$\n",
      "\n",
      "2nd line: 71.64$\n",
      "\n"
     ]
    }
   ],
   "source": [
    "## Reading an individual line from a file\n",
    "def read_dollar_menu():\n",
    "    dollar_spam = open('dollar_menu.txt', 'r')\n",
    "    print('1st line:', dollar_spam.readline())\n",
    "    print('2nd line:', dollar_spam.readline())\n",
    "    dollar_spam.close()\n",
    "\n",
    "read_dollar_menu()"
   ]
  },
  {
   "cell_type": "code",
   "execution_count": 33,
   "metadata": {},
   "outputs": [
    {
     "name": "stdout",
     "output_type": "stream",
     "text": [
      "35.01$ <class 'str'>\n",
      "71.64$ <class 'str'>\n",
      "24.43$ <class 'str'>\n",
      "51.31$ <class 'str'>\n",
      "80.07$ <class 'str'>\n"
     ]
    }
   ],
   "source": [
    "## Reading ALL the lines in a loop into a list\n",
    "def read_dollar_menu(file_name):\n",
    "    # open the file\n",
    "    # loop to get each line and append each line into a list\n",
    "    # print the list\n",
    "    # close the file\n",
    "    with open(file_name,'r') as file:\n",
    "        #content = file.readlines()\n",
    "        txt = file.read()\n",
    "        ## Strip newline caracters from each menu line\n",
    "        content = txt.split('\\n')\n",
    "    return content\n",
    "    \n",
    "def main(): \n",
    "    file_name = 'dollar_menu.txt'\n",
    "    content = read_dollar_menu(file_name)\n",
    "\n",
    "    for line in content:\n",
    "        print(line, type(line))\n",
    "\n",
    "main()"
   ]
  },
  {
   "cell_type": "markdown",
   "metadata": {},
   "source": [
    "**Reading schedule.txt**\n",
    "\n",
    "We'll also need to be able to read our schedule file back into a dictionary. \n",
    "\n",
    "Right now our schedule.txt file looks like this:\n",
    "\n",
    "    Ventriloquism - 9:00am\n",
    "\n",
    "    Snake Charmer - 12:00pm\n",
    "\n",
    "    Amazing Acrobatics - 2:00pm\n",
    "\n",
    "    Enchanted Elephants - 5:00pm\n",
    "\n",
    "After we open the file, we'll want to read each line from the file in a for loop.\n",
    "\n",
    "Let's use the variable name line in our for loop.\n",
    "\n",
    "Then, inside of that for loop, print out the contents of the line variable.\n",
    "\n",
    "Finally, before we forget, let's close our file outside of the for loop."
   ]
  },
  {
   "cell_type": "code",
   "execution_count": 34,
   "metadata": {},
   "outputs": [
    {
     "name": "stdout",
     "output_type": "stream",
     "text": [
      "Ventriloquism-9:00 am\n",
      "\n",
      "Snake Charmer-12:00 pm\n",
      "\n",
      "Amazing Acrobatics-2:00 pm\n",
      "\n",
      "Enchanted Elephants-5:00 pm\n",
      "\n"
     ]
    }
   ],
   "source": [
    "## Reading schedule.txt\n",
    "with open('schedules.txt','r') as schedules:\n",
    "    for line in schedules:\n",
    "        print(line)"
   ]
  },
  {
   "cell_type": "code",
   "execution_count": 36,
   "metadata": {},
   "outputs": [
    {
     "name": "stdout",
     "output_type": "stream",
     "text": [
      "Ventriloquism 9:00 am\n",
      "\n",
      "Snake Charmer 12:00 pm\n",
      "\n",
      "Amazing Acrobatics 2:00 pm\n",
      "\n",
      "Enchanted Elephants 5:00 pm\n",
      "\n"
     ]
    }
   ],
   "source": [
    "## Assign the show name and time directly to a key-value pair labeled (show, time). \n",
    "## Set (show, time) equal to the output of the line.split() function, and pass in ' - ' as a parameter to the split() function.\n",
    "## Print show and time instead of just line.\n",
    "with open('schedules.txt','r') as schedules:\n",
    "    for line in schedules:\n",
    "        show,time = line.split('-')\n",
    "        print(show,time)"
   ]
  },
  {
   "cell_type": "code",
   "execution_count": 40,
   "metadata": {},
   "outputs": [
    {
     "name": "stdout",
     "output_type": "stream",
     "text": [
      "{'Ventriloquism': '9:00 am', 'Snake Charmer': '12:00 pm', 'Amazing Acrobatics': '2:00 pm', 'Enchanted Elephants': '5:00 pm'}\n"
     ]
    }
   ],
   "source": [
    "## Save the show and time in a performances dictionary, use the key show and the value time.\n",
    "performances={}\n",
    "with open('schedules.txt','r') as schedules:\n",
    "    for line in schedules:\n",
    "        show,time = line.split('-')\n",
    "        performances[show] = time.rstrip(\"\\n\")\n",
    "## Print it to see if it looks right\n",
    "print(performances)\n",
    "## Get rid of newline characters\n"
   ]
  },
  {
   "cell_type": "markdown",
   "metadata": {},
   "source": [
    "**Exceptions**\n",
    "\n",
    "If we try to read a file that does not exist we get a **FileNotFoundError** and this error will cause our program to crash\n",
    "\n",
    "It would be great if we could recover from this type of error and continue with our program\n",
    "\n",
    "**Try except** allows us to do just that"
   ]
  },
  {
   "cell_type": "code",
   "execution_count": 42,
   "metadata": {},
   "outputs": [
    {
     "name": "stdout",
     "output_type": "stream",
     "text": [
      "File does not exit\n",
      "*\n"
     ]
    }
   ],
   "source": [
    "## Anything we put in the Try block catch errors so we can avoid a program crash\n",
    "## Opening a file is potencially error prone code\n",
    "\n",
    "try: # try this\n",
    "    file = open('sales.txt', 'r')\n",
    "    print(file.read())\n",
    "except: # if you get an error\n",
    "    print('File does not exit') # print the error message \n",
    "# then continue with the program as usual\n",
    "print('*')"
   ]
  },
  {
   "cell_type": "markdown",
   "metadata": {},
   "source": [
    "**Types of Exceptions**\n",
    "\n",
    "Python has 60 and plus types of exceptions, like:\n",
    "- FileNotFoundError\n",
    "- IndexError\n",
    "- KeyError\n",
    "- NameError\n",
    "- ValueError\n",
    "\n",
    "You can find all of the types of Python 3 exception at http://go.codeschool.com/python-exceptions"
   ]
  },
  {
   "cell_type": "code",
   "execution_count": 43,
   "metadata": {},
   "outputs": [
    {
     "name": "stdout",
     "output_type": "stream",
     "text": [
      "Not a number:  could not convert string to float: 'a'\n",
      "next line\n"
     ]
    }
   ],
   "source": [
    "## A ValueError can occur when you try to convert a string to number\n",
    "## and the string actually contain a word instead of a number \n",
    "\n",
    "price = input('Enter the price: ')\n",
    "try:\n",
    "    price = float(price)\n",
    "    print('price = ', price)\n",
    "## Capture the exception's error message\n",
    "except Exception as exception:\n",
    "    print('Not a number:',exception, type(exception))\n",
    "\n",
    "print('next line')"
   ]
  },
  {
   "cell_type": "markdown",
   "metadata": {},
   "source": [
    "**Try, Except, Succeed**\n",
    "\n",
    "If for some reason we try to read our schedule.txt file and it doesn't exist, our program will crash. \n",
    "\n",
    "Let's fix this by adding exception handling to our schedule reader program."
   ]
  },
  {
   "cell_type": "code",
   "execution_count": 49,
   "metadata": {},
   "outputs": [
    {
     "name": "stdout",
     "output_type": "stream",
     "text": [
      "[Errno 2] No such file or directory: 'schedule.txt'\n"
     ]
    }
   ],
   "source": [
    "## First, let's wrap the line of code that opens our file inside a try block.\n",
    "## Then, after the try block we need an except block, or our program won't run. \n",
    "## Inside our except block let's print File doesn't exist.\n",
    "## In the except: line, let's also check for a specific FileNotFoundError and save it into a variable called err.\n",
    "## Finally, let's just print err instead of File doesn't exist.\n",
    "\n",
    "performances = {}\n",
    "try:\n",
    "    schedule_file = open('schedule.txt', 'r')\n",
    "    for line in schedule_file:\n",
    "        (show, time) = line.split('-')\n",
    "        performances[show] = time\n",
    "\n",
    "    schedule_file.close()\n",
    "    print(performances)\n",
    "except FileNotFoundError as err:\n",
    "    print(err)"
   ]
  }
 ],
 "metadata": {
  "kernelspec": {
   "display_name": "Python 3.10.7 64-bit (microsoft store)",
   "language": "python",
   "name": "python3"
  },
  "language_info": {
   "codemirror_mode": {
    "name": "ipython",
    "version": 3
   },
   "file_extension": ".py",
   "mimetype": "text/x-python",
   "name": "python",
   "nbconvert_exporter": "python",
   "pygments_lexer": "ipython3",
   "version": "3.10.7"
  },
  "orig_nbformat": 4,
  "vscode": {
   "interpreter": {
    "hash": "66eba28a75a64fbe1a9b9c30d27f7c856726c51cbbef86297708eae4ce175db0"
   }
  }
 },
 "nbformat": 4,
 "nbformat_minor": 2
}
